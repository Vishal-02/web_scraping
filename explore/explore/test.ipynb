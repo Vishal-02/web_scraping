{
 "cells": [
  {
   "cell_type": "code",
   "execution_count": 301,
   "metadata": {},
   "outputs": [],
   "source": [
    "import sqlite3\n",
    "import json\n",
    "from os import getenv\n",
    "from dotenv import load_dotenv\n",
    "from selenium import webdriver\n",
    "from selenium.webdriver.support.ui import WebDriverWait\n",
    "from selenium.webdriver.chrome.options import Options\n",
    "import pytesseract\n",
    "from PIL import Image\n",
    "import cv2\n",
    "import numpy as np"
   ]
  },
  {
   "cell_type": "code",
   "execution_count": 302,
   "metadata": {},
   "outputs": [],
   "source": [
    "USERNAME = getenv(\"USERNAME\")\n",
    "PASSWORD = getenv(\"PASSWORD\")"
   ]
  },
  {
   "cell_type": "code",
   "execution_count": 349,
   "metadata": {},
   "outputs": [],
   "source": [
    "chrome_options = Options()\n",
    "# chrome_options.add_argument(\"--headless\")\n",
    "chrome_options.add_argument(\"--enable-cookies\")\n",
    "url = \"https://manganato.com/\"\n",
    "\n",
    "driver = webdriver.Chrome(\n",
    "    \"../../chromedriver-win64/chromedriver.exe\",\n",
    "    options=chrome_options\n",
    ")\n",
    "\n",
    "with open(\"manga_cookies.json\", \"r\") as file:\n",
    "    cookies = json.load(file)\n",
    "\n",
    "driver.get(url)\n",
    "\n",
    "for cookie in cookies:\n",
    "    driver.add_cookie(cookie)\n",
    "\n",
    "driver.refresh()"
   ]
  },
  {
   "cell_type": "code",
   "execution_count": 330,
   "metadata": {},
   "outputs": [],
   "source": [
    "element = driver.find_element_by_xpath(\"//a[contains(@class, 'btn-login')]\")\n",
    "element.click()\n",
    "\n",
    "user_name = driver.find_element_by_xpath(\"//input[contains(@class, 'user-name')]\")\n",
    "user_name.send_keys(USERNAME)\n",
    "\n",
    "password = driver.find_element_by_xpath(\"//input[contains(@class, 'pass')]\")\n",
    "password.send_keys(PASSWORD)\n",
    "\n"
   ]
  },
  {
   "cell_type": "code",
   "execution_count": 331,
   "metadata": {},
   "outputs": [
    {
     "name": "stdout",
     "output_type": "stream",
     "text": [
      "https://manganato.com/\n"
     ]
    }
   ],
   "source": [
    "print(driver.current_url)"
   ]
  },
  {
   "cell_type": "code",
   "execution_count": 332,
   "metadata": {},
   "outputs": [],
   "source": [
    "with open(\"manga_cookies.json\", \"w\") as file:\n",
    "    json.dump(driver.get_cookies(), file)"
   ]
  },
  {
   "cell_type": "code",
   "execution_count": 350,
   "metadata": {},
   "outputs": [],
   "source": [
    "driver.close()"
   ]
  },
  {
   "cell_type": "code",
   "execution_count": 351,
   "metadata": {},
   "outputs": [
    {
     "name": "stdout",
     "output_type": "stream",
     "text": [
      "{'domain': '.manganato.com', 'httpOnly': False, 'name': '_ga', 'path': '/', 'sameSite': 'Lax', 'secure': False, 'value': 'GA1.1.934912023.1717840273'}\n",
      "{'domain': 'manganato.com', 'httpOnly': False, 'name': 'user_acc', 'path': '/', 'sameSite': 'Lax', 'secure': False, 'value': '%7B%22user_version%22%3A%222.3%22%2C%22user_name%22%3A%22Wallflower%22%2C%22user_image%22%3A%22https%3A%5C%2F%5C%2Favt.mkklcdnv6temp.com%5C%2Fcontent%5C%2Favt.png%22%2C%22user_data%22%3A%22eyJ0eXAiOiJKV1QiLCJhbGciOiJIUzI1NiJ9.clNXdfJGbnJyeGbiojIlBXe09lJGbnJCLiwWYj96ICZp9lclNXdfLiYDN2MDO0EjIlclNXdfJGbnJClGZiojIyV2c19sIyYpB3b0VHdzXyV2c19lYsdmI2FwaSI6IiJ9.iXtuQrzMwtDCNPFQbDsY9a0y3pR2VpyVi98ICODkgu4%22%7D'}\n",
      "{'domain': '.manganato.com', 'httpOnly': False, 'name': '_ga_KB8FZMQYTR', 'path': '/', 'sameSite': 'Lax', 'secure': False, 'value': 'GS1.1.1717840273.1.0.1717840273.0.0.0'}\n",
      "{'domain': '.manganato.com', 'httpOnly': False, 'name': '_gat_gtag_UA_198007309_1', 'path': '/', 'sameSite': 'Lax', 'secure': False, 'value': '1'}\n",
      "{'domain': '.manganato.com', 'httpOnly': False, 'name': '_gid', 'path': '/', 'sameSite': 'Lax', 'secure': False, 'value': 'GA1.2.1790132287.1717840273'}\n",
      "{'domain': 'manganato.com', 'httpOnly': False, 'name': 'ci_session', 'path': '/', 'sameSite': 'Lax', 'secure': False, 'value': 'cDlbD%2FwIJmEcJ1FCAsrtqsqjO6Loqr%2FzBu5lXk9iYfAPg%2FHNXW39Pbc5ePXyeXHgjupC0jLXce9r103r8OG0kJLJwZjAybQMq%2Bd%2FojuH1B2o8OrhbEtY1FXGX0sPqrYxxOiZKzJ2WH917N%2FtTsrFT6Ko8mvIJuAMzeVit5USTL9%2BIq1eLIR6kYW7nGMU83e8k9tBmR0KAKNx6RIzitRrogx%2F3IAtZ4BvC5jGCkxjy4pIhu9zM9ZAvqb6zpmReK58cJwtdudYMzDJwGCtz%2FeFfXSUifYaKDyxu0fvXDFcbTwrL6es7%2FLA44adkFP0BsdyhGmDVmJqv8hKiGplavflHr4ifPGW1vl71mHNqS6nPH7IskSeWaXVDFgFnPGbtUA9QZp%2BQxQ4bk5KeG8tvjQgUcUbxfGd0pavCxua6aQZgRv94pckI5TU3cBD5tUi8UlbF855RJB3McrpN6UELwT8OeifmrwLuOR4UvzA5pYsN5iGAhVE2Gtr7c6QtRWDNgM276019c518eac811802be9350d99addc051e32cba'}\n"
     ]
    }
   ],
   "source": [
    "with open(\"manga_cookies.json\", \"r\") as file:\n",
    "    cookies = json.load(file)\n",
    "\n",
    "for cookie in cookies:\n",
    "    # if \"expiry\" in cookie:\n",
    "    #     del cookie[\"expiry\"]\n",
    "    print(cookie)"
   ]
  },
  {
   "cell_type": "code",
   "execution_count": null,
   "metadata": {},
   "outputs": [],
   "source": []
  }
 ],
 "metadata": {
  "kernelspec": {
   "display_name": "scrapy-env",
   "language": "python",
   "name": "python3"
  },
  "language_info": {
   "codemirror_mode": {
    "name": "ipython",
    "version": 3
   },
   "file_extension": ".py",
   "mimetype": "text/x-python",
   "name": "python",
   "nbconvert_exporter": "python",
   "pygments_lexer": "ipython3",
   "version": "3.10.7"
  }
 },
 "nbformat": 4,
 "nbformat_minor": 2
}
