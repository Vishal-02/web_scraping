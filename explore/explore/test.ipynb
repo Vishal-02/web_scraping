{
 "cells": [
  {
   "cell_type": "code",
   "execution_count": 52,
   "metadata": {},
   "outputs": [],
   "source": [
    "import sqlite3\n",
    "import json"
   ]
  },
  {
   "cell_type": "code",
   "execution_count": 53,
   "metadata": {},
   "outputs": [],
   "source": [
    "# this is the connection to our local database \"custom.db\"\n",
    "con = sqlite3.connect(\"custom.db\")\n",
    "\n",
    "# this cursor allows us to execute sql statements\n",
    "cur = con.cursor()"
   ]
  },
  {
   "cell_type": "code",
   "execution_count": 40,
   "metadata": {},
   "outputs": [
    {
     "data": {
      "text/plain": [
       "<sqlite3.Cursor at 0x249ead4cbc0>"
      ]
     },
     "execution_count": 40,
     "metadata": {},
     "output_type": "execute_result"
    }
   ],
   "source": [
    "# let's create a table to store all my manhwa\n",
    "cur.execute(\"CREATE TABLE Manga(title TEXT, alt_titles TEXT, last_read REAL, last_updated REAL)\")\n",
    "# cur.execute(\"DROP TABLE Manga\")"
   ]
  },
  {
   "cell_type": "code",
   "execution_count": 54,
   "metadata": {},
   "outputs": [
    {
     "data": {
      "text/plain": [
       "('Manga',)"
      ]
     },
     "execution_count": 54,
     "metadata": {},
     "output_type": "execute_result"
    }
   ],
   "source": [
    "# the sqlite_master table has a list of all the tables apparently, so we can get the names of all the\n",
    "# tables we've created by querying that\n",
    "result = cur.execute(\"SELECT name FROM sqlite_master\")\n",
    "result.fetchone()\n",
    "\n",
    "# querying this master table for some table that doesn't exist just returns a None"
   ]
  },
  {
   "cell_type": "code",
   "execution_count": 45,
   "metadata": {},
   "outputs": [],
   "source": [
    "data = [(\"The World Of Otome Games Is Tough For Mobs\", json.dumps([]), 63, 64),\n",
    "        (\"Tales Of Demons And Gods\", json.dumps([]), 283, 475.5)]\n",
    "\n",
    "cur.executemany(\"INSERT INTO Manga VALUES(?, ?, ?, ?)\", data)\n",
    "con.commit()"
   ]
  },
  {
   "cell_type": "code",
   "execution_count": 56,
   "metadata": {},
   "outputs": [
    {
     "name": "stdout",
     "output_type": "stream",
     "text": [
      "Webtoon Character Na Kang Lim\n",
      "The World Of Otome Games Is Tough For Mobs\n",
      "Tales Of Demons And Gods\n"
     ]
    }
   ],
   "source": [
    "for row in cur.execute(\"SELECT * FROM Manga\"):\n",
    "    print(row[0])"
   ]
  },
  {
   "cell_type": "code",
   "execution_count": 58,
   "metadata": {},
   "outputs": [
    {
     "ename": "AttributeError",
     "evalue": "'sqlite3.Cursor' object has no attribute 'keys'",
     "output_type": "error",
     "traceback": [
      "\u001b[1;31m---------------------------------------------------------------------------\u001b[0m",
      "\u001b[1;31mAttributeError\u001b[0m                            Traceback (most recent call last)",
      "Cell \u001b[1;32mIn[58], line 1\u001b[0m\n\u001b[1;32m----> 1\u001b[0m \u001b[43mcur\u001b[49m\u001b[38;5;241;43m.\u001b[39;49m\u001b[43mkeys\u001b[49m()\n",
      "\u001b[1;31mAttributeError\u001b[0m: 'sqlite3.Cursor' object has no attribute 'keys'"
     ]
    }
   ],
   "source": []
  },
  {
   "cell_type": "code",
   "execution_count": 49,
   "metadata": {},
   "outputs": [
    {
     "name": "stdout",
     "output_type": "stream",
     "text": [
      "('Webtoon Character Na Kang Lim', '[]', 2.0, 165.0)\n",
      "('The World Of Otome Games Is Tough For Mobs', '[]', 63.0, 64.0)\n",
      "('Tales Of Demons And Gods', '[]', 283.0, 475.5)\n"
     ]
    }
   ],
   "source": []
  },
  {
   "cell_type": "code",
   "execution_count": null,
   "metadata": {},
   "outputs": [],
   "source": []
  }
 ],
 "metadata": {
  "kernelspec": {
   "display_name": "scrapy-env",
   "language": "python",
   "name": "python3"
  },
  "language_info": {
   "codemirror_mode": {
    "name": "ipython",
    "version": 3
   },
   "file_extension": ".py",
   "mimetype": "text/x-python",
   "name": "python",
   "nbconvert_exporter": "python",
   "pygments_lexer": "ipython3",
   "version": "3.10.7"
  }
 },
 "nbformat": 4,
 "nbformat_minor": 2
}
