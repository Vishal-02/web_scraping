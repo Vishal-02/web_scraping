{
 "cells": [
  {
   "cell_type": "code",
   "execution_count": 159,
   "metadata": {},
   "outputs": [],
   "source": [
    "import sqlite3\n",
    "import json\n",
    "from os import getenv\n",
    "from dotenv import load_dotenv\n",
    "from selenium import webdriver\n",
    "from selenium.webdriver.support.ui import WebDriverWait\n",
    "from selenium.webdriver.chrome.options import Options\n",
    "import pytesseract\n",
    "from PIL import Image\n",
    "import cv2\n",
    "import numpy as np\n",
    "from re import split"
   ]
  },
  {
   "cell_type": "code",
   "execution_count": 122,
   "metadata": {},
   "outputs": [],
   "source": [
    "import csv\n",
    "\n",
    "fields = [\"titles\", \"url\", \"current\", \"latest\"]\n",
    "filename = \"tempdb.csv\"\n",
    "\n",
    "with open(filename, \"w\", encoding=\"utf-8\", newline=\"\") as file:\n",
    "    csvwriter = csv.writer(file)\n",
    "    csvwriter.writerow(fields)\n",
    "    clumps = list(zip(titles, urls, current, latest))\n",
    "    csvwriter.writerows(clumps)"
   ]
  },
  {
   "cell_type": "code",
   "execution_count": 140,
   "metadata": {},
   "outputs": [],
   "source": [
    "con = sqlite3.connect(\"custom.db\")\n",
    "cur = con.cursor()"
   ]
  },
  {
   "cell_type": "code",
   "execution_count": 130,
   "metadata": {},
   "outputs": [
    {
     "data": {
      "text/plain": [
       "<sqlite3.Cursor at 0x25706153ac0>"
      ]
     },
     "execution_count": 130,
     "metadata": {},
     "output_type": "execute_result"
    }
   ],
   "source": [
    "data = ('something', json.dumps([]), 1, 2)\n",
    "cur.execute(\"INSERT INTO manga VALUES (?, ?, ?, ?)\", data)\n",
    "\n"
   ]
  },
  {
   "cell_type": "code",
   "execution_count": 411,
   "metadata": {},
   "outputs": [
    {
     "name": "stdout",
     "output_type": "stream",
     "text": [
      "('Vol.4 Chapter 14', 'Chapter 18: Something else is going on')\n"
     ]
    }
   ],
   "source": [
    "def func(line):\n",
    "    line = line.strip('\"')\n",
    "    curr_chap, latest_chap = \"\", \"\"\n",
    "\n",
    "    if line[0] == \"C\": # it starts with \"Chapter\"\n",
    "        line = line.split(\"Chapter\")[1:]\n",
    "        first = line[0].split(\"Vol\")\n",
    "\n",
    "        if len(first) == 1:\n",
    "            curr_chap = \"Chapter\" + line[0][:-1]\n",
    "            latest_chap = \"Chapter \" + line[1].strip()\n",
    "        elif len(first) == 2:\n",
    "            curr_chap = \"Chapter\" + first[0][:-1]\n",
    "            latest_chap = \"Vol\" + first[1] + \"Chapter \" + line[-1].strip()\n",
    "\n",
    "    else: # it starts with \"Vol\"\n",
    "        line = line.split(\"Vol\")[1:]\n",
    "\n",
    "        if len(line) == 1: # the latest chapter starts with \"Chapter\"\n",
    "            line = line[0].rsplit(\",Chapter\", 1)\n",
    "            curr_chap = \"Vol\" + line[0]\n",
    "            latest_chap = \"Chapter \" + line[-1].strip()\n",
    "        elif len(line) == 2: # the latest chapter starts with \"Vol\"\n",
    "            curr_chap = \"Vol\" + line[0][:-1]\n",
    "            latest_chap = \"Vol\" + line[1].strip()\n",
    "\n",
    "        # print(f\"{curr_chap} --- {latest_chap}\")\n",
    "\n",
    "    return curr_chap, latest_chap\n",
    "\n",
    "one = \"Vol.5 Chapter 43: Cheers,Vol.15 Chapter 165: Takehi Gouda's Ability\\n\"\n",
    "two = \"Chapter 3,Chapter 11\\n\"\n",
    "three = \"Chapter 14,Vol.4 Chapter 18\\n\"\n",
    "four = \"Vol.4 Chapter 14,Chapter 18: Something else is going on\\n\"\n",
    "\n",
    "print(func(four))"
   ]
  },
  {
   "cell_type": "code",
   "execution_count": 412,
   "metadata": {},
   "outputs": [],
   "source": [
    "titles = []\n",
    "urls = []\n",
    "current = []\n",
    "latest = []\n",
    "full = []\n",
    "\n",
    "with open(\"tempdb.csv\", \"r\", encoding=\"utf-8\") as file:\n",
    "    csvwriter = csv.reader(file)\n",
    "    for i, lines in enumerate(file):\n",
    "        full.append(lines)\n",
    "        if i == 0:\n",
    "            continue\n",
    "\n",
    "        lines = split(\"https\", lines)\n",
    "        titles.append(lines[0][:-1].strip('\"'))\n",
    "\n",
    "        lines = lines[1].split(\",\", maxsplit=1)\n",
    "        urls.append(f\"https{lines[0]}\")\n",
    "        \n",
    "        curr_chap, latest_chap = func(lines[1])\n",
    "        current.append(curr_chap)\n",
    "        latest.append(latest_chap)"
   ]
  },
  {
   "cell_type": "code",
   "execution_count": 424,
   "metadata": {},
   "outputs": [
    {
     "data": {
      "text/plain": [
       "<sqlite3.Cursor at 0x25706204e40>"
      ]
     },
     "execution_count": 424,
     "metadata": {},
     "output_type": "execute_result"
    }
   ],
   "source": [
    "cur.execute(\"CREATE TABLE Manga(title, url, current, latest)\")"
   ]
  },
  {
   "cell_type": "code",
   "execution_count": 425,
   "metadata": {},
   "outputs": [
    {
     "data": {
      "text/plain": [
       "('Magic Emperor',\n",
       " 'https://chapmanganato.to/manga-gr983826',\n",
       " 'Chapter 1',\n",
       " 'Chapter 559')"
      ]
     },
     "execution_count": 425,
     "metadata": {},
     "output_type": "execute_result"
    }
   ],
   "source": [
    "insert = list(zip(titles, urls, current, latest))\n"
   ]
  },
  {
   "cell_type": "code",
   "execution_count": 426,
   "metadata": {},
   "outputs": [
    {
     "data": {
      "text/plain": [
       "<sqlite3.Cursor at 0x25706204e40>"
      ]
     },
     "execution_count": 426,
     "metadata": {},
     "output_type": "execute_result"
    }
   ],
   "source": [
    "cur.executemany(\"INSERT INTO Manga VALUES(?, ?, ?, ?)\", insert)"
   ]
  },
  {
   "cell_type": "code",
   "execution_count": 429,
   "metadata": {},
   "outputs": [
    {
     "data": {
      "text/plain": [
       "[('Magic Emperor', 'Chapter 1'),\n",
       " ('My Second Life is a Healing Life?', 'Chapter 9: The End Of Peace'),\n",
       " ('Helmut: The Forsaken Child', 'Chapter 26'),\n",
       " ('Baek XX', 'Chapter 60'),\n",
       " ('TSUYOSHI', 'Vol.5 Chapter 43: Cheers')]"
      ]
     },
     "execution_count": 429,
     "metadata": {},
     "output_type": "execute_result"
    }
   ],
   "source": []
  },
  {
   "cell_type": "code",
   "execution_count": null,
   "metadata": {},
   "outputs": [],
   "source": []
  }
 ],
 "metadata": {
  "kernelspec": {
   "display_name": "scrapy-env",
   "language": "python",
   "name": "python3"
  },
  "language_info": {
   "codemirror_mode": {
    "name": "ipython",
    "version": 3
   },
   "file_extension": ".py",
   "mimetype": "text/x-python",
   "name": "python",
   "nbconvert_exporter": "python",
   "pygments_lexer": "ipython3",
   "version": "3.10.7"
  }
 },
 "nbformat": 4,
 "nbformat_minor": 2
}
