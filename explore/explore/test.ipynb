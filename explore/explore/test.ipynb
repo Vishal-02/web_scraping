{
 "cells": [
  {
   "cell_type": "code",
   "execution_count": 280,
   "metadata": {},
   "outputs": [],
   "source": [
    "import sqlite3\n",
    "import json\n",
    "from os import getenv\n",
    "from dotenv import load_dotenv\n",
    "from selenium import webdriver\n",
    "from selenium.webdriver.support.ui import WebDriverWait\n",
    "from selenium.webdriver.chrome.options import Options\n",
    "import pytesseract\n",
    "from PIL import Image\n",
    "import cv2\n",
    "import numpy as np"
   ]
  },
  {
   "cell_type": "code",
   "execution_count": 281,
   "metadata": {},
   "outputs": [],
   "source": [
    "USERNAME = getenv(\"USERNAME\")\n",
    "PASSWORD = getenv(\"PASSWORD\")"
   ]
  },
  {
   "cell_type": "code",
   "execution_count": 282,
   "metadata": {},
   "outputs": [],
   "source": [
    "chrome_options = Options()\n",
    "# chrome_options.add_argument(\"--headless\")\n",
    "url = \"https://mangakakalot.com/\"\n",
    "\n",
    "driver = webdriver.Chrome(\n",
    "    \"../../chromedriver-win64/chromedriver.exe\",\n",
    "    options=chrome_options\n",
    ")\n",
    "\n",
    "driver.get(url)"
   ]
  },
  {
   "cell_type": "code",
   "execution_count": 283,
   "metadata": {},
   "outputs": [],
   "source": [
    "element = driver.find_element_by_xpath(\"//a[contains(@class, 'btn-login')]\")\n",
    "element.click()\n",
    "\n",
    "user_name = driver.find_element_by_xpath(\"//input[contains(@class, 'user-name')]\")\n",
    "user_name.send_keys(USERNAME)\n",
    "\n",
    "password = driver.find_element_by_xpath(\"//input[contains(@class, 'pass')]\")\n",
    "password.send_keys(PASSWORD)\n",
    "\n"
   ]
  },
  {
   "cell_type": "code",
   "execution_count": 284,
   "metadata": {},
   "outputs": [],
   "source": [
    "cap = driver.find_elements_by_xpath(\"//img\")[1]\n",
    "\n",
    "with open('avoid-captcha.png', 'wb') as file:\n",
    "    file.write(cap.screenshot_as_png)\n",
    "\n",
    "# image = cv2.imread(\"avoid-captcha.png\", cv2.IMREAD_GRAYSCALE)\n",
    "# th, image = cv2.threshold(image, 185, 255, cv2.THRESH_BINARY)\n",
    "# kernel = cv2.getStructuringElement(cv2.MORPH_RECT, (4, 8))\n",
    "# image = cv2.morphologyEx(image, cv2.MORPH_CLOSE, kernel)\n",
    "# cv2.imwrite(\"avoid-captchar.png\", image)\n",
    "file = \"avoid-captcha.png\"\n",
    "# img = cv2.imread(file, cv2.IMREAD_GRAYSCALE)\n",
    "# img = cv2.resize(img, None, fx=2, fy=2, interpolation=cv2.INTER_LINEAR)\n",
    "# img = cv2.medianBlur(img, 5)\n",
    "# gray = cv2.cvtColor(img, cv2.COLOR_BGR2GRAY)\n",
    "# ekernel = np.ones((1,2),np.uint8)\n",
    "# eroded = cv2.erode(img, ekernel, iterations = 1)\n",
    "# dkernel = np.ones((2,3),np.uint8)\n",
    "# dilated_once = cv2.dilate(eroded, dkernel, iterations = 1)\n",
    "# ekernel = np.ones((2,2),np.uint8)\n",
    "# dilated_twice = cv2.erode(dilated_once, ekernel, iterations = 1)\n",
    "# th, threshed = cv2.threshold(dilated_once, 200, 255, cv2.THRESH_BINARY)\n",
    "# dkernel = np.ones((2,2),np.uint8)\n",
    "# threshed_dilated = cv2.dilate(threshed, dkernel, iterations = 1)\n",
    "# ekernel = np.ones((2,2),np.uint8)\n",
    "# threshed_eroded = cv2.erode(threshed_dilated, ekernel, iterations = 1)\n",
    "# cv2.imwrite(\"avoid-captchar.png\", img)\n",
    "\n",
    "# image = Image.open(\"avoid-captchar.png\")\n",
    "# config = r\"--oem 3 --psm 6\"\n",
    "\n",
    "# pytesseract.pytesseract.tesseract_cmd = r\"D:/Vishals Folder/Study/Code/Python/web_scraping/Tesseract-OCR/tesseract.exe\"\n",
    "# text = pytesseract.image_to_string(image)\n",
    "# print(f\"my string is: {text}\")\n"
   ]
  },
  {
   "cell_type": "code",
   "execution_count": 285,
   "metadata": {},
   "outputs": [],
   "source": [
    "# driver.close()"
   ]
  },
  {
   "cell_type": "code",
   "execution_count": 293,
   "metadata": {},
   "outputs": [
    {
     "name": "stdout",
     "output_type": "stream",
     "text": [
      "my string is: Sy\n",
      "\n"
     ]
    }
   ],
   "source": [
    "# upscale the image first\n",
    "image = Image.open(\"avoid-captcha.png\")\n",
    "image.resize((400, 180), resample=Image.BOX).save(\"upscaled.png\")\n",
    "\n",
    "image = cv2.imread(\"upscaled.png\")\n",
    "\n",
    "# i want everything that's not green to be white\n",
    "for row in image:\n",
    "    for pixel in row:\n",
    "        if pixel[1] > 174:\n",
    "            pixel[0] = 255\n",
    "            pixel[1] = 255\n",
    "            pixel[2] = 255\n",
    "        else:\n",
    "            pixel[0] = 0\n",
    "            pixel[1] = 0\n",
    "            pixel[2] = 0\n",
    "\n",
    "image = np.mean(image, axis=2)\n",
    "# i want 80-240\n",
    "image = image[20:120, 80:240]\n",
    "cv2.imwrite(\"without-lines.png\", image)\n",
    "\n",
    "image = Image.open(\"without-lines.png\")\n",
    "\n",
    "pytesseract.pytesseract.tesseract_cmd = r\"D:/Vishals Folder/Study/Code/Python/web_scraping/Tesseract-OCR/tesseract.exe\"\n",
    "text = pytesseract.image_to_string(image)\n",
    "print(f\"my string is: {text}\")\n"
   ]
  },
  {
   "cell_type": "code",
   "execution_count": 300,
   "metadata": {},
   "outputs": [
    {
     "name": "stdout",
     "output_type": "stream",
     "text": [
      "my string is: \n"
     ]
    }
   ],
   "source": [
    "image = cv2.imread(\"without-lines.png\")\n",
    "cv2.imwrite(\"one-digit.png\", image[:, 80:120])\n",
    "\n",
    "image = Image.open(\"one-digit.png\")\n",
    "\n",
    "pytesseract.pytesseract.tesseract_cmd = r\"D:/Vishals Folder/Study/Code/Python/web_scraping/Tesseract-OCR/tesseract.exe\"\n",
    "text = pytesseract.image_to_string(image)\n",
    "print(f\"my string is: {text}\")\n"
   ]
  },
  {
   "cell_type": "code",
   "execution_count": null,
   "metadata": {},
   "outputs": [],
   "source": []
  }
 ],
 "metadata": {
  "kernelspec": {
   "display_name": "scrapy-env",
   "language": "python",
   "name": "python3"
  },
  "language_info": {
   "codemirror_mode": {
    "name": "ipython",
    "version": 3
   },
   "file_extension": ".py",
   "mimetype": "text/x-python",
   "name": "python",
   "nbconvert_exporter": "python",
   "pygments_lexer": "ipython3",
   "version": "3.10.7"
  }
 },
 "nbformat": 4,
 "nbformat_minor": 2
}
